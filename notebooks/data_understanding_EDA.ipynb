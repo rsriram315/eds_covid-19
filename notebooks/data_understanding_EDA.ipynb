{
 "cells": [
  {
   "cell_type": "code",
   "execution_count": 1,
   "metadata": {},
   "outputs": [],
   "source": [
    "import pandas as pd\n",
    "import numpy as np\n",
    "from datetime import datetime\n",
    "import matplotlib as mpl\n",
    "import matplotlib.pyplot as plt\n",
    "import plotly.graph_objects as go\n",
    "import os\n",
    "import plotly.io as pio\n",
    "import dash\n",
    "import dash_core_components as dcc\n",
    "import dash_html_components as html\n",
    "from dash.dependencies import Input,Output"
   ]
  },
  {
   "cell_type": "code",
   "execution_count": 2,
   "metadata": {},
   "outputs": [],
   "source": [
    "%matplotlib inline\n",
    "mpl.rcParams['figure.figsize'] = (16, 9)\n",
    "pd.set_option('display.max_rows', 500)"
   ]
  },
  {
   "cell_type": "code",
   "execution_count": 3,
   "metadata": {},
   "outputs": [
    {
     "data": {
      "text/plain": [
       "'C:\\\\Users\\\\Sriram\\\\eds_covid-19\\\\notebooks'"
      ]
     },
     "execution_count": 3,
     "metadata": {},
     "output_type": "execute_result"
    }
   ],
   "source": [
    "os.getcwd()"
   ]
  },
  {
   "cell_type": "code",
   "execution_count": 4,
   "metadata": {},
   "outputs": [
    {
     "data": {
      "text/html": [
       "<div>\n",
       "<style scoped>\n",
       "    .dataframe tbody tr th:only-of-type {\n",
       "        vertical-align: middle;\n",
       "    }\n",
       "\n",
       "    .dataframe tbody tr th {\n",
       "        vertical-align: top;\n",
       "    }\n",
       "\n",
       "    .dataframe thead th {\n",
       "        text-align: right;\n",
       "    }\n",
       "</style>\n",
       "<table border=\"1\" class=\"dataframe\">\n",
       "  <thead>\n",
       "    <tr style=\"text-align: right;\">\n",
       "      <th></th>\n",
       "      <th>date</th>\n",
       "      <th>Germany</th>\n",
       "      <th>United Kingdom</th>\n",
       "      <th>India</th>\n",
       "      <th>US</th>\n",
       "    </tr>\n",
       "  </thead>\n",
       "  <tbody>\n",
       "    <tr>\n",
       "      <th>214</th>\n",
       "      <td>2020-08-23</td>\n",
       "      <td>234494</td>\n",
       "      <td>327643</td>\n",
       "      <td>3106348</td>\n",
       "      <td>5701679</td>\n",
       "    </tr>\n",
       "    <tr>\n",
       "      <th>213</th>\n",
       "      <td>2020-08-22</td>\n",
       "      <td>233861</td>\n",
       "      <td>326595</td>\n",
       "      <td>3044940</td>\n",
       "      <td>5667112</td>\n",
       "    </tr>\n",
       "    <tr>\n",
       "      <th>212</th>\n",
       "      <td>2020-08-21</td>\n",
       "      <td>233029</td>\n",
       "      <td>325263</td>\n",
       "      <td>2975701</td>\n",
       "      <td>5622540</td>\n",
       "    </tr>\n",
       "    <tr>\n",
       "      <th>211</th>\n",
       "      <td>2020-08-20</td>\n",
       "      <td>231292</td>\n",
       "      <td>324203</td>\n",
       "      <td>2905825</td>\n",
       "      <td>5573847</td>\n",
       "    </tr>\n",
       "    <tr>\n",
       "      <th>210</th>\n",
       "      <td>2020-08-19</td>\n",
       "      <td>229706</td>\n",
       "      <td>323008</td>\n",
       "      <td>2836925</td>\n",
       "      <td>5529824</td>\n",
       "    </tr>\n",
       "  </tbody>\n",
       "</table>\n",
       "</div>"
      ],
      "text/plain": [
       "           date  Germany  United Kingdom    India       US\n",
       "214  2020-08-23   234494          327643  3106348  5701679\n",
       "213  2020-08-22   233861          326595  3044940  5667112\n",
       "212  2020-08-21   233029          325263  2975701  5622540\n",
       "211  2020-08-20   231292          324203  2905825  5573847\n",
       "210  2020-08-19   229706          323008  2836925  5529824"
      ]
     },
     "execution_count": 4,
     "metadata": {},
     "output_type": "execute_result"
    }
   ],
   "source": [
    "#Reading stored data\n",
    "df_for_plot=pd.read_csv('../data/processed/COVID_JH_data_small_flat_table.csv',sep=';')\n",
    "df_for_plot.sort_values('date',ascending=False).head()"
   ]
  },
  {
   "cell_type": "code",
   "execution_count": 5,
   "metadata": {},
   "outputs": [
    {
     "name": "stderr",
     "output_type": "stream",
     "text": [
      "C:\\Users\\Sriram\\Anaconda3\\lib\\site-packages\\pandas\\plotting\\_matplotlib\\core.py:1235: UserWarning:\n",
      "\n",
      "FixedFormatter should only be used together with FixedLocator\n",
      "\n"
     ]
    },
    {
     "data": {
      "text/plain": [
       "<Figure size 1152x648 with 0 Axes>"
      ]
     },
     "metadata": {},
     "output_type": "display_data"
    },
    {
     "data": {
      "image/png": "[encoded data removed]",
      "text/plain": [
       "<Figure size 1152x648 with 1 Axes>"
      ]
     },
     "metadata": {
      "needs_background": "light"
     },
     "output_type": "display_data"
    }
   ],
   "source": [
    "plt.figure()\n",
    "ax=df_for_plot.set_index('date').plot()\n",
    "plt.ylim(10,5000000)\n",
    "ax.set_yscale('log')"
   ]
  },
  {
   "cell_type": "markdown",
   "metadata": {},
   "source": [
    "# Dynamic Plots"
   ]
  },
  {
   "cell_type": "code",
   "execution_count": 6,
   "metadata": {},
   "outputs": [],
   "source": [
    "fig=go.Figure()"
   ]
  },
  {
   "cell_type": "code",
   "execution_count": 7,
   "metadata": {},
   "outputs": [
    {
     "data": {
      "text/plain": [
       "Renderers configuration\n",
       "-----------------------\n",
       "    Default renderer: 'plotly_mimetype+notebook'\n",
       "    Available renderers:\n",
       "        ['plotly_mimetype', 'jupyterlab', 'nteract', 'vscode',\n",
       "         'notebook', 'notebook_connected', 'kaggle', 'azure', 'colab',\n",
       "         'cocalc', 'databricks', 'json', 'png', 'jpeg', 'jpg', 'svg',\n",
       "         'pdf', 'browser', 'firefox', 'chrome', 'chromium', 'iframe',\n",
       "         'iframe_connected', 'sphinx_gallery', 'sphinx_gallery_png']"
      ]
     },
     "execution_count": 7,
     "metadata": {},
     "output_type": "execute_result"
    }
   ],
   "source": [
    "\n",
    "pio.renderers"
   ]
  },
  {
   "cell_type": "code",
   "execution_count": 8,
   "metadata": {},
   "outputs": [],
   "source": [
    "country_list=['Germany', 'United Kingdom','India','US']\n",
    "for country in country_list:\n",
    "    fig.add_trace(go.Scatter(x=df_for_plot.date,\n",
    "                            y=df_for_plot[country],\n",
    "                            mode='lines+markers',\n",
    "                            name=country))\n",
    "fig.update_layout(xaxis_title='Time',\n",
    "                yaxis_title='Confirmed cases[JH Data]',\n",
    "                width=1400,\n",
    "                height=800)\n",
    "fig.update_yaxes(type=\"log\")\n",
    "fig.update_layout(xaxis_rangeslider_visible=True)\n",
    "# can also render in browser\n",
    "fig.show(renderer='browser')"
   ]
  },
  {
   "cell_type": "code",
   "execution_count": 9,
   "metadata": {},
   "outputs": [],
   "source": [
    "app=dash.Dash()\n",
    "app.layout=html.Div([\n",
    "    html.Label('Multi-Select Country'),\n",
    "    dcc.Dropdown(id='country_drop_down',\n",
    "    options=[\n",
    "        {'label':'Germany', 'value':'Germany'},\n",
    "        {'label':'India', 'value':'India'},\n",
    "        {'label':'United Kingdom', 'value':'United Kingdom'},\n",
    "        {'label':'US', 'value':'US'}\n",
    "            ],\n",
    "    value=['India','Germany'],\n",
    "    multi=True\n",
    "                ),\n",
    "    dcc.Graph(figure=fig, id='main_window_slope')\n",
    "                    ])"
   ]
  },
  {
   "cell_type": "code",
   "execution_count": 10,
   "metadata": {},
   "outputs": [],
   "source": [
    "@app.callback(\n",
    "    Output('main_window_slope', 'figure'),\n",
    "    [Input('country_drop_down','value')])\n",
    "def update_figure(country_list):\n",
    "    traces=[]\n",
    "    #pushing the dataset to the list\n",
    "    for country in country_list:\n",
    "        traces.append(dict(x=df_for_plot.date,\n",
    "                          y=df_for_plot[country],\n",
    "                          mode='lines+markers',\n",
    "                          name=country\n",
    "                          )\n",
    "                     )\n",
    "    design=dict(xaxis_title='Time',\n",
    "                yaxis_title='Confirmed cases[JH Data, log scale]',\n",
    "                width=1500,\n",
    "                height=750,\n",
    "                yaxis={'type':'log'})\n",
    "    return{ 'data':traces,\n",
    "          'layout':design}"
   ]
  },
  {
   "cell_type": "code",
   "execution_count": 12,
   "metadata": {},
   "outputs": [
    {
     "name": "stdout",
     "output_type": "stream",
     "text": [
      "Running on http://127.0.0.1:8050/\n",
      "Debugger PIN: 930-511-937\n",
      " * Serving Flask app \"__main__\" (lazy loading)\n",
      " * Environment: production\n",
      "   WARNING: This is a development server. Do not use it in a production deployment.\n",
      "   Use a production WSGI server instead.\n",
      " * Debug mode: on\n"
     ]
    }
   ],
   "source": [
    "app.run_server(debug=True,use_reloader=False)"
   ]
  },
  {
   "cell_type": "code",
   "execution_count": null,
   "metadata": {},
   "outputs": [],
   "source": []
  }
 ],
 "metadata": {
  "kernelspec": {
   "display_name": "Python 3",
   "language": "python",
   "name": "python3"
  },
  "language_info": {
   "codemirror_mode": {
    "name": "ipython",
    "version": 3
   },
   "file_extension": ".py",
   "mimetype": "text/x-python",
   "name": "python",
   "nbconvert_exporter": "python",
   "pygments_lexer": "ipython3",
   "version": "3.6.8"
  }
 },
 "nbformat": 4,
 "nbformat_minor": 2
}
