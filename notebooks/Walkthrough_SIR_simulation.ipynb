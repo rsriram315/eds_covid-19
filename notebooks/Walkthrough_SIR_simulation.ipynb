{
 "cells": [
  {
   "cell_type": "markdown",
   "metadata": {},
   "source": [
    "# Setting up the full walkthrough for SIR simulation"
   ]
  },
  {
   "cell_type": "markdown",
   "metadata": {},
   "source": [
    "# 1.Update All Data"
   ]
  },
  {
   "cell_type": "code",
   "execution_count": 1,
   "metadata": {},
   "outputs": [
    {
     "name": "stdout",
     "output_type": "stream",
     "text": [
      "Error : b'From https://github.com/CSSEGISandData/COVID-19\\n   f759b906..f97f1113  web-data   -> origin/web-data\\n'\n",
      "out : b'Already up to date.\\n'\n"
     ]
    }
   ],
   "source": [
    "# %load ../src/data/get_data.py\n",
    "\"\"\"\n",
    "Created on Fri Aug 21 13:02:59 2020\n",
    "\n",
    "@author: Sriram\n",
    "\"\"\"\n",
    "\n",
    "import subprocess\n",
    "import os\n",
    "import pandas as pd\n",
    "import numpy as np\n",
    "from datetime import datetime\n",
    "\n",
    "# Check Working directory and set the path\n",
    "if os.path.split(os.getcwd())[-1]=='notebooks':\n",
    "    os.chdir(\"../\")\n",
    "\n",
    "\n",
    "# Function to pull latest data from John Hopkins GITHUB page\n",
    "def get_john_hopkins():\n",
    "    'We use git pull to save the data in the folder COVID-19. Data saved as csv files under various names'\n",
    "    git_pull = subprocess.Popen( \"git pull\" , \n",
    "                     cwd = os.path.dirname( 'data/raw/COVID-19/' ), \n",
    "                     shell = True, \n",
    "                     stdout = subprocess.PIPE, \n",
    "                     stderr = subprocess.PIPE )\n",
    "    (out, error) = git_pull.communicate()\n",
    "    \n",
    "    print(\"Error : \" + str(error)) \n",
    "    print(\"out : \" + str(out))\n",
    "\n",
    "if __name__ == '__main__':\n",
    "    get_john_hopkins()"
   ]
  },
  {
   "cell_type": "markdown",
   "metadata": {},
   "source": [
    "# 2.Process Pipeline"
   ]
  },
  {
   "cell_type": "code",
   "execution_count": 2,
   "metadata": {},
   "outputs": [
    {
     "data": {
      "text/plain": [
       "'C:\\\\Users\\\\Sriram\\\\eds_covid-19'"
      ]
     },
     "execution_count": 2,
     "metadata": {},
     "output_type": "execute_result"
    }
   ],
   "source": [
    "#checking current working directory\n",
    "os.getcwd()"
   ]
  },
  {
   "cell_type": "code",
   "execution_count": 3,
   "metadata": {},
   "outputs": [
    {
     "name": "stdout",
     "output_type": "stream",
     "text": [
      "Latest date is2020-08-30 00:00:00\n",
      " Number of rows stored: 222\n"
     ]
    }
   ],
   "source": [
    "# %load src/data/process_SIR_JH_data.py\n",
    "\"\"\"\n",
    "Created on Sat Aug 29 12:22:53 2020\n",
    "\n",
    "@author: Sriram\n",
    "\"\"\"\n",
    "import pandas as pd\n",
    "import requests\n",
    "import subprocess\n",
    "import os\n",
    "import numpy as np\n",
    "from datetime import datetime\n",
    "\n",
    "\n",
    "def store_flat_table_JH_data():\n",
    "    \"process raw JH data into a flat table data structure\"\n",
    "    datapath='data/raw/COVID-19/csse_covid_19_data/csse_covid_19_time_series/time_series_covid19_confirmed_global.csv'\n",
    "    JH_data_raw=pd.read_csv(datapath)\n",
    "    time_index=JH_data_raw.columns[4:]\n",
    "    pd_flat_table=pd.DataFrame({'date':time_index})\n",
    "    country_list=JH_data_raw['Country/Region'].unique()\n",
    "    for country in country_list:\n",
    "        pd_flat_table[country]=np.array(JH_data_raw[JH_data_raw['Country/Region']==country].iloc[:,4::].sum(axis=0))\n",
    "    time_index=[datetime.strptime(each,\"%m/%d/%y\") for each in pd_flat_table.date]\n",
    "    pd_flat_table['date']=time_index\n",
    "    pd_flat_table.to_csv('data/processed/COVID_JH_flat_table_confirmed.csv',sep=';',index=False )\n",
    "    print('Latest date is'+str(max(pd_flat_table.date)))\n",
    "    print(' Number of rows stored: '+str(pd_flat_table.shape[0]))\n",
    "\n",
    "#running the function\n",
    "if __name__ == '__main__':\n",
    "    store_flat_table_JH_data()"
   ]
  },
  {
   "cell_type": "markdown",
   "metadata": {},
   "source": [
    "# 3. Dynamic DashBoard of SIR simulation curve"
   ]
  },
  {
   "cell_type": "code",
   "execution_count": 4,
   "metadata": {},
   "outputs": [
    {
     "data": {
      "text/plain": [
       "'C:\\\\Users\\\\Sriram\\\\eds_covid-19'"
      ]
     },
     "execution_count": 4,
     "metadata": {},
     "output_type": "execute_result"
    }
   ],
   "source": [
    "os.getcwd()"
   ]
  },
  {
   "cell_type": "code",
   "execution_count": 9,
   "metadata": {},
   "outputs": [
    {
     "name": "stdout",
     "output_type": "stream",
     "text": [
      "Running on http://127.0.0.1:8050/\n",
      "Running on http://127.0.0.1:8050/\n",
      "Running on http://127.0.0.1:8050/\n",
      "Debugger PIN: 352-515-107\n",
      "Debugger PIN: 352-515-107\n",
      "Debugger PIN: 352-515-107\n"
     ]
    },
    {
     "name": "stderr",
     "output_type": "stream",
     "text": [
      " * Tip: There are .env or .flaskenv files present. Do \"pip install python-dotenv\" to use them.\r\n"
     ]
    },
    {
     "name": "stdout",
     "output_type": "stream",
     "text": [
      " * Serving Flask app \"__main__\" (lazy loading)\n",
      " * Environment: production\n",
      "   WARNING: This is a development server. Do not use it in a production deployment.\n",
      "   Use a production WSGI server instead.\n",
      " * Debug mode: on\n"
     ]
    }
   ],
   "source": [
    "# %load src/visualization/visualize_SIR.py\n",
    "\"\"\"\n",
    "Created on Thu Aug 27 22:59:56 2020\n",
    "\n",
    "@author: Sriram\n",
    "\"\"\"\n",
    "import os\n",
    "import pandas as pd\n",
    "import numpy as np\n",
    "import plotly.graph_objects as go\n",
    "import dash\n",
    "import dash_core_components as dcc\n",
    "import dash_html_components as html\n",
    "from dash.dependencies import Input,Output\n",
    "import plotly.io as pio\n",
    "\n",
    "\n",
    "df_SIR_large=pd.read_csv('data/processed/COVID_JH_flat_table_confirmed.csv',sep=';',parse_dates=[0])\n",
    "df_SIR_large=df_SIR_large.sort_values('date',ascending=True)\n",
    "\n",
    "fig=go.Figure()\n",
    "app=dash.Dash()\n",
    "\n",
    "app.layout=html.Div([\n",
    "        dcc.Markdown('''\n",
    "                     # Applied Datascience on COVID-19 Data\n",
    "                     This Dashboard shows the actual confirmed infected people and the simulated\n",
    "                     SIR curve.\n",
    "                    '''),\n",
    "    # For Country dropdown menu\n",
    "        dcc.Markdown(''' ## Single-Select Country for Visualization'''),\n",
    "        \n",
    "        dcc.Dropdown( id='single_select_country',\n",
    "                     options=[{'label':each,'value':each} for each in df_SIR_large.columns[1:]],\n",
    "                     value='Germany',\n",
    "                     multi=False),\n",
    "    #For changing beta ,gamma, t_initial, t_intro_measures,t_hold,t_relax\n",
    "    dcc.Markdown(''' ## Change the values below to manipulate the SIR curve:'''),\n",
    "    html.Label([\"No measures introduced(days):\",\n",
    "              dcc.Input(id='t_initial',\n",
    "             type='number',\n",
    "             value=28,debounce=True)],style={\"margin-left\": \"30px\"}),\n",
    "    html.Label([\"Measures introduced over(days):\",\n",
    "              dcc.Input(id='t_intro_measures',\n",
    "             type='number',\n",
    "             value=14,debounce=True)],style={\"margin-left\": \"30px\"}),\n",
    "    html.Label([\"Introduced measures hold time(days):\",\n",
    "              dcc.Input(id='t_hold',\n",
    "             type='number',\n",
    "             value=21,debounce=True)],style={\"margin-left\": \"30px\"}),\n",
    "    html.Br(),\n",
    "    html.Br(),\n",
    "    html.Label([\"Introduced measures relaxed(days):\",\n",
    "              dcc.Input(id='t_relax',\n",
    "             type='number',\n",
    "             value=21,debounce=True)],style={\"margin-left\": \"30px\"}),\n",
    "    html.Label([\"Beta max:\",\n",
    "              dcc.Input(id='beta_max',\n",
    "             type='number',\n",
    "             value=0.4,debounce=True)],style={\"margin-left\": \"30px\"}),\n",
    "    html.Label([\"Beta min:\",\n",
    "              dcc.Input(id='beta_min',\n",
    "             type='number',\n",
    "             value=0.11,debounce=True)],style={\"margin-left\": \"30px\"}),\n",
    "    html.Label([\"Gamma:\",\n",
    "              dcc.Input(id='gamma',\n",
    "             type='number',\n",
    "             value=0.1,debounce=True)],style={\"margin-left\": \"30px\"}),\n",
    "    html.Br(),\n",
    "    html.Br(),\n",
    "    # For plotting graph\n",
    "        dcc.Graph(figure=fig,\n",
    "                  id='SIR_curve',\n",
    "                  animate=False,)\n",
    "    \n",
    "        ])\n",
    "        \n",
    "    \n",
    "@app.callback(\n",
    "    Output('SIR_curve', 'figure'),\n",
    "    [Input('single_select_country', 'value'),\n",
    "    Input('t_initial','value'),\n",
    "    Input('t_intro_measures','value'),\n",
    "    Input('t_hold','value'),\n",
    "    Input('t_relax','value'),\n",
    "    Input('beta_max','value'),\n",
    "    Input('beta_min','value'),\n",
    "    Input('gamma','value')])\n",
    "    \n",
    "def update_figure(country,initial_time,intro_measures,hold_time,relax_time,max_beta,min_beta,gamma_max):\n",
    "    ydata=df_SIR_large[country][df_SIR_large[country]>=30]\n",
    "    xdata=np.arange(len(ydata))\n",
    "    N0=5000000\n",
    "    I0=30\n",
    "    S0=N0-I0\n",
    "    R0=0\n",
    "    gamma=gamma_max    \n",
    "    SIR=np.array([S0,I0,R0])\n",
    "    \n",
    "    t_initial=initial_time\n",
    "    t_intro_measures=intro_measures\n",
    "    t_hold=hold_time\n",
    "    t_relax=relax_time\n",
    "    beta_max=max_beta\n",
    "    beta_min=min_beta\n",
    "    propagation_rates=pd.DataFrame(columns={'susceptible':S0,'infected':I0,'recovered':R0})\n",
    "    pd_beta=np.concatenate((np.array(t_initial*[beta_max]),\n",
    "                       np.linspace(beta_max,beta_min,t_intro_measures),\n",
    "                       np.array(t_hold*[beta_min]),\n",
    "                       np.linspace(beta_min,beta_max,t_relax),\n",
    "                       ))\n",
    "    \n",
    "    def SIR_model(SIR,beta,gamma):\n",
    "        'SIR model for simulatin spread'\n",
    "        'S: Susceptible population'\n",
    "        'I: Infected popuation'\n",
    "        'R: Recovered population'\n",
    "        'S+I+R=N (remains constant)'\n",
    "        'dS+dI+dR=0 model has to satisfy this condition at all time'\n",
    "        S,I,R=SIR\n",
    "        dS_dt=-beta*S*I/N0\n",
    "        dI_dt=beta*S*I/N0-gamma*I\n",
    "        dR_dt=gamma*I\n",
    "        return ([dS_dt,dI_dt,dR_dt])\n",
    "    \n",
    "    for each_beta in pd_beta:\n",
    "        new_delta_vec=SIR_model(SIR,each_beta,gamma)\n",
    "        SIR=SIR+new_delta_vec\n",
    "        propagation_rates=propagation_rates.append({'susceptible':SIR[0],'infected':SIR[1],'recovered':SIR[2]},ignore_index=True) \n",
    "    \n",
    "    fig=go.Figure()\n",
    "    fig.add_trace(go.Bar(x=xdata,\n",
    "                        y=ydata,\n",
    "                         marker_color='crimson',\n",
    "                         name='Confirmed Cases'                \n",
    "                        ))\n",
    "    \n",
    "    fig.add_trace(go.Scatter(x=xdata,\n",
    "                            y=propagation_rates.infected,\n",
    "                            mode='lines',\n",
    "                            marker_color='blue',\n",
    "                            name='Simulated curve'))\n",
    "    \n",
    "    fig.update_layout(shapes=[\n",
    "                            dict(type='rect',xref='x',yref='paper',x0=0,y0=0,x1=t_initial,y1=1,fillcolor=\"LightSalmon\",opacity=0.4,layer=\"below\",line_width=0,),\n",
    "                            dict(type='rect',xref='x',yref='paper',x0=t_initial,y0=0,x1=t_initial+t_intro_measures,y1=1,fillcolor=\"LightSalmon\",opacity=0.5,layer=\"below\",line_width=0,),\n",
    "                            dict(type='rect',xref='x',yref='paper',x0=t_initial+t_intro_measures,y0=0,x1=t_initial+t_intro_measures+t_hold,y1=1,fillcolor=\"LightSalmon\",opacity=0.6,layer='below',line_width=0,),\n",
    "                            dict(type='rect',xref='x',yref='paper',x0=t_initial+t_intro_measures+t_hold,y0=0,x1=t_initial+t_intro_measures+t_hold+t_relax,y1=1,fillcolor='LightSalmon',opacity=0.7,layer='below',line_width=0,)\n",
    "                            ],\n",
    "                    title='SIR Simulation Scenario',\n",
    "                    title_x=0.5,\n",
    "                    xaxis=dict(title='Time(days)',\n",
    "                               titlefont_size=16),\n",
    "                    yaxis=dict(title='Confirmed cases[JH Data, log scale] ',\n",
    "                               type='log',\n",
    "                                titlefont_size=16,\n",
    "                              ),\n",
    "                    width=1280,\n",
    "                    height=600,\n",
    "                    template='plotly_dark'\n",
    "                     )\n",
    "    return fig\n",
    "\n",
    "if __name__ == '__main__':\n",
    "    app.run_server(debug=True,use_reloader=False)"
   ]
  },
  {
   "cell_type": "code",
   "execution_count": null,
   "metadata": {},
   "outputs": [],
   "source": []
  },
  {
   "cell_type": "code",
   "execution_count": null,
   "metadata": {},
   "outputs": [],
   "source": []
  }
 ],
 "metadata": {
  "kernelspec": {
   "display_name": "Python 3",
   "language": "python",
   "name": "python3"
  },
  "language_info": {
   "codemirror_mode": {
    "name": "ipython",
    "version": 3
   },
   "file_extension": ".py",
   "mimetype": "text/x-python",
   "name": "python",
   "nbconvert_exporter": "python",
   "pygments_lexer": "ipython3",
   "version": "3.6.8"
  }
 },
 "nbformat": 4,
 "nbformat_minor": 2
}
